{
  "nbformat": 4,
  "nbformat_minor": 0,
  "metadata": {
    "colab": {
      "provenance": [],
      "include_colab_link": true
    },
    "kernelspec": {
      "name": "python3",
      "display_name": "Python 3"
    },
    "language_info": {
      "name": "python"
    }
  },
  "cells": [
    {
      "cell_type": "markdown",
      "metadata": {
        "id": "view-in-github",
        "colab_type": "text"
      },
      "source": [
        "<a href=\"https://colab.research.google.com/github/shameeryaseen/Picture_Healer/blob/main/stable_diffusion_api_on_sagemaker.ipynb\" target=\"_parent\"><img src=\"https://colab.research.google.com/assets/colab-badge.svg\" alt=\"Open In Colab\"/></a>"
      ]
    },
    {
      "cell_type": "code",
      "execution_count": 1,
      "metadata": {
        "id": "zn4Tbglj_-_C",
        "outputId": "dab4ffda-10c7-403f-c812-cc9cd8a99b34",
        "colab": {
          "base_uri": "https://localhost:8080/",
          "height": 1000
        }
      },
      "outputs": [
        {
          "output_type": "stream",
          "name": "stdout",
          "text": [
            "Collecting sagemaker==2.116.0\n",
            "  Downloading sagemaker-2.116.0.tar.gz (592 kB)\n",
            "\u001b[?25l     \u001b[90m━━━━━━━━━━━━━━━━━━━━━━━━━━━━━━━━━━━━━━━━\u001b[0m \u001b[32m0.0/592.4 kB\u001b[0m \u001b[31m?\u001b[0m eta \u001b[36m-:--:--\u001b[0m\r\u001b[2K     \u001b[91m━━━━━━━━━━━━━━━━━━━━━━━━━━━━━━━━━\u001b[0m\u001b[91m╸\u001b[0m\u001b[90m━━━━━━\u001b[0m \u001b[32m501.8/592.4 kB\u001b[0m \u001b[31m15.0 MB/s\u001b[0m eta \u001b[36m0:00:01\u001b[0m\r\u001b[2K     \u001b[90m━━━━━━━━━━━━━━━━━━━━━━━━━━━━━━━━━━━━━━━━\u001b[0m \u001b[32m592.4/592.4 kB\u001b[0m \u001b[31m8.6 MB/s\u001b[0m eta \u001b[36m0:00:00\u001b[0m\n",
            "\u001b[?25h  Preparing metadata (setup.py) ... \u001b[?25l\u001b[?25hdone\n",
            "Collecting huggingface_hub==0.10.1\n",
            "  Downloading huggingface_hub-0.10.1-py3-none-any.whl.metadata (6.1 kB)\n",
            "Collecting attrs<23,>=20.3.0 (from sagemaker==2.116.0)\n",
            "  Downloading attrs-22.2.0-py3-none-any.whl.metadata (13 kB)\n",
            "Collecting boto3<2.0,>=1.20.21 (from sagemaker==2.116.0)\n",
            "  Downloading boto3-1.35.81-py3-none-any.whl.metadata (6.7 kB)\n",
            "Requirement already satisfied: google-pasta in /usr/local/lib/python3.10/dist-packages (from sagemaker==2.116.0) (0.2.0)\n",
            "Requirement already satisfied: numpy<2.0,>=1.9.0 in /usr/local/lib/python3.10/dist-packages (from sagemaker==2.116.0) (1.26.4)\n",
            "Collecting protobuf<4.0,>=3.1 (from sagemaker==2.116.0)\n",
            "  Downloading protobuf-3.20.3-cp310-cp310-manylinux_2_12_x86_64.manylinux2010_x86_64.whl.metadata (679 bytes)\n",
            "Collecting protobuf3-to-dict<1.0,>=0.1.5 (from sagemaker==2.116.0)\n",
            "  Downloading protobuf3-to-dict-0.1.5.tar.gz (3.5 kB)\n",
            "  Preparing metadata (setup.py) ... \u001b[?25l\u001b[?25hdone\n",
            "Collecting smdebug_rulesconfig==1.0.1 (from sagemaker==2.116.0)\n",
            "  Downloading smdebug_rulesconfig-1.0.1-py2.py3-none-any.whl.metadata (943 bytes)\n",
            "Collecting importlib-metadata<5.0,>=1.4.0 (from sagemaker==2.116.0)\n",
            "  Downloading importlib_metadata-4.13.0-py3-none-any.whl.metadata (4.9 kB)\n",
            "Requirement already satisfied: packaging>=20.0 in /usr/local/lib/python3.10/dist-packages (from sagemaker==2.116.0) (24.2)\n",
            "Requirement already satisfied: pandas in /usr/local/lib/python3.10/dist-packages (from sagemaker==2.116.0) (2.2.2)\n",
            "Collecting pathos (from sagemaker==2.116.0)\n",
            "  Downloading pathos-0.3.3-py3-none-any.whl.metadata (11 kB)\n",
            "Collecting schema (from sagemaker==2.116.0)\n",
            "  Downloading schema-0.7.7-py2.py3-none-any.whl.metadata (34 kB)\n",
            "Requirement already satisfied: filelock in /usr/local/lib/python3.10/dist-packages (from huggingface_hub==0.10.1) (3.16.1)\n",
            "Requirement already satisfied: requests in /usr/local/lib/python3.10/dist-packages (from huggingface_hub==0.10.1) (2.32.3)\n",
            "Requirement already satisfied: tqdm in /usr/local/lib/python3.10/dist-packages (from huggingface_hub==0.10.1) (4.66.6)\n",
            "Requirement already satisfied: pyyaml>=5.1 in /usr/local/lib/python3.10/dist-packages (from huggingface_hub==0.10.1) (6.0.2)\n",
            "Requirement already satisfied: typing-extensions>=3.7.4.3 in /usr/local/lib/python3.10/dist-packages (from huggingface_hub==0.10.1) (4.12.2)\n",
            "Collecting botocore<1.36.0,>=1.35.81 (from boto3<2.0,>=1.20.21->sagemaker==2.116.0)\n",
            "  Downloading botocore-1.35.81-py3-none-any.whl.metadata (5.7 kB)\n",
            "Collecting jmespath<2.0.0,>=0.7.1 (from boto3<2.0,>=1.20.21->sagemaker==2.116.0)\n",
            "  Downloading jmespath-1.0.1-py3-none-any.whl.metadata (7.6 kB)\n",
            "Collecting s3transfer<0.11.0,>=0.10.0 (from boto3<2.0,>=1.20.21->sagemaker==2.116.0)\n",
            "  Downloading s3transfer-0.10.4-py3-none-any.whl.metadata (1.7 kB)\n",
            "Requirement already satisfied: zipp>=0.5 in /usr/local/lib/python3.10/dist-packages (from importlib-metadata<5.0,>=1.4.0->sagemaker==2.116.0) (3.21.0)\n",
            "Requirement already satisfied: six in /usr/local/lib/python3.10/dist-packages (from protobuf3-to-dict<1.0,>=0.1.5->sagemaker==2.116.0) (1.17.0)\n",
            "Requirement already satisfied: python-dateutil>=2.8.2 in /usr/local/lib/python3.10/dist-packages (from pandas->sagemaker==2.116.0) (2.8.2)\n",
            "Requirement already satisfied: pytz>=2020.1 in /usr/local/lib/python3.10/dist-packages (from pandas->sagemaker==2.116.0) (2024.2)\n",
            "Requirement already satisfied: tzdata>=2022.7 in /usr/local/lib/python3.10/dist-packages (from pandas->sagemaker==2.116.0) (2024.2)\n",
            "Collecting ppft>=1.7.6.9 (from pathos->sagemaker==2.116.0)\n",
            "  Downloading ppft-1.7.6.9-py3-none-any.whl.metadata (12 kB)\n",
            "Collecting dill>=0.3.9 (from pathos->sagemaker==2.116.0)\n",
            "  Downloading dill-0.3.9-py3-none-any.whl.metadata (10 kB)\n",
            "Collecting pox>=0.3.5 (from pathos->sagemaker==2.116.0)\n",
            "  Downloading pox-0.3.5-py3-none-any.whl.metadata (8.0 kB)\n",
            "Collecting multiprocess>=0.70.17 (from pathos->sagemaker==2.116.0)\n",
            "  Downloading multiprocess-0.70.17-py310-none-any.whl.metadata (7.2 kB)\n",
            "Requirement already satisfied: charset-normalizer<4,>=2 in /usr/local/lib/python3.10/dist-packages (from requests->huggingface_hub==0.10.1) (3.4.0)\n",
            "Requirement already satisfied: idna<4,>=2.5 in /usr/local/lib/python3.10/dist-packages (from requests->huggingface_hub==0.10.1) (3.10)\n",
            "Requirement already satisfied: urllib3<3,>=1.21.1 in /usr/local/lib/python3.10/dist-packages (from requests->huggingface_hub==0.10.1) (2.2.3)\n",
            "Requirement already satisfied: certifi>=2017.4.17 in /usr/local/lib/python3.10/dist-packages (from requests->huggingface_hub==0.10.1) (2024.8.30)\n",
            "Downloading huggingface_hub-0.10.1-py3-none-any.whl (163 kB)\n",
            "\u001b[2K   \u001b[90m━━━━━━━━━━━━━━━━━━━━━━━━━━━━━━━━━━━━━━━━\u001b[0m \u001b[32m163.5/163.5 kB\u001b[0m \u001b[31m10.4 MB/s\u001b[0m eta \u001b[36m0:00:00\u001b[0m\n",
            "\u001b[?25hDownloading smdebug_rulesconfig-1.0.1-py2.py3-none-any.whl (20 kB)\n",
            "Downloading attrs-22.2.0-py3-none-any.whl (60 kB)\n",
            "\u001b[2K   \u001b[90m━━━━━━━━━━━━━━━━━━━━━━━━━━━━━━━━━━━━━━━━\u001b[0m \u001b[32m60.0/60.0 kB\u001b[0m \u001b[31m4.0 MB/s\u001b[0m eta \u001b[36m0:00:00\u001b[0m\n",
            "\u001b[?25hDownloading boto3-1.35.81-py3-none-any.whl (139 kB)\n",
            "\u001b[2K   \u001b[90m━━━━━━━━━━━━━━━━━━━━━━━━━━━━━━━━━━━━━━━━\u001b[0m \u001b[32m139.2/139.2 kB\u001b[0m \u001b[31m9.9 MB/s\u001b[0m eta \u001b[36m0:00:00\u001b[0m\n",
            "\u001b[?25hDownloading importlib_metadata-4.13.0-py3-none-any.whl (23 kB)\n",
            "Downloading protobuf-3.20.3-cp310-cp310-manylinux_2_12_x86_64.manylinux2010_x86_64.whl (1.1 MB)\n",
            "\u001b[2K   \u001b[90m━━━━━━━━━━━━━━━━━━━━━━━━━━━━━━━━━━━━━━━━\u001b[0m \u001b[32m1.1/1.1 MB\u001b[0m \u001b[31m18.7 MB/s\u001b[0m eta \u001b[36m0:00:00\u001b[0m\n",
            "\u001b[?25hDownloading pathos-0.3.3-py3-none-any.whl (82 kB)\n",
            "\u001b[2K   \u001b[90m━━━━━━━━━━━━━━━━━━━━━━━━━━━━━━━━━━━━━━━━\u001b[0m \u001b[32m82.1/82.1 kB\u001b[0m \u001b[31m6.1 MB/s\u001b[0m eta \u001b[36m0:00:00\u001b[0m\n",
            "\u001b[?25hDownloading schema-0.7.7-py2.py3-none-any.whl (18 kB)\n",
            "Downloading botocore-1.35.81-py3-none-any.whl (13.3 MB)\n",
            "\u001b[2K   \u001b[90m━━━━━━━━━━━━━━━━━━━━━━━━━━━━━━━━━━━━━━━━\u001b[0m \u001b[32m13.3/13.3 MB\u001b[0m \u001b[31m21.2 MB/s\u001b[0m eta \u001b[36m0:00:00\u001b[0m\n",
            "\u001b[?25hDownloading dill-0.3.9-py3-none-any.whl (119 kB)\n",
            "\u001b[2K   \u001b[90m━━━━━━━━━━━━━━━━━━━━━━━━━━━━━━━━━━━━━━━━\u001b[0m \u001b[32m119.4/119.4 kB\u001b[0m \u001b[31m9.7 MB/s\u001b[0m eta \u001b[36m0:00:00\u001b[0m\n",
            "\u001b[?25hDownloading jmespath-1.0.1-py3-none-any.whl (20 kB)\n",
            "Downloading multiprocess-0.70.17-py310-none-any.whl (134 kB)\n",
            "\u001b[2K   \u001b[90m━━━━━━━━━━━━━━━━━━━━━━━━━━━━━━━━━━━━━━━━\u001b[0m \u001b[32m134.8/134.8 kB\u001b[0m \u001b[31m10.4 MB/s\u001b[0m eta \u001b[36m0:00:00\u001b[0m\n",
            "\u001b[?25hDownloading pox-0.3.5-py3-none-any.whl (29 kB)\n",
            "Downloading ppft-1.7.6.9-py3-none-any.whl (56 kB)\n",
            "\u001b[2K   \u001b[90m━━━━━━━━━━━━━━━━━━━━━━━━━━━━━━━━━━━━━━━━\u001b[0m \u001b[32m56.8/56.8 kB\u001b[0m \u001b[31m3.7 MB/s\u001b[0m eta \u001b[36m0:00:00\u001b[0m\n",
            "\u001b[?25hDownloading s3transfer-0.10.4-py3-none-any.whl (83 kB)\n",
            "\u001b[2K   \u001b[90m━━━━━━━━━━━━━━━━━━━━━━━━━━━━━━━━━━━━━━━━\u001b[0m \u001b[32m83.2/83.2 kB\u001b[0m \u001b[31m6.6 MB/s\u001b[0m eta \u001b[36m0:00:00\u001b[0m\n",
            "\u001b[?25hBuilding wheels for collected packages: sagemaker, protobuf3-to-dict\n",
            "  Building wheel for sagemaker (setup.py) ... \u001b[?25l\u001b[?25hdone\n",
            "  Created wheel for sagemaker: filename=sagemaker-2.116.0-py2.py3-none-any.whl size=809030 sha256=6dd49982e4097556a17c5aa3b9e51195269fd66fc22de29a6364d8bed9ce2116\n",
            "  Stored in directory: /root/.cache/pip/wheels/3e/59/09/7dc5d159f54a089d620382b932ff3a03c948164dd502947369\n",
            "  Building wheel for protobuf3-to-dict (setup.py) ... \u001b[?25l\u001b[?25hdone\n",
            "  Created wheel for protobuf3-to-dict: filename=protobuf3_to_dict-0.1.5-py3-none-any.whl size=4010 sha256=0bbacc670f0e3038660202e6665f845989cf1a61f44d88ee1106b36a7147327e\n",
            "  Stored in directory: /root/.cache/pip/wheels/12/3e/42/e783cdd4e7b8fda9bfc472eeb465bc9041bda90a3dbece8d74\n",
            "Successfully built sagemaker protobuf3-to-dict\n",
            "Installing collected packages: schema, smdebug_rulesconfig, protobuf, ppft, pox, jmespath, importlib-metadata, dill, attrs, protobuf3-to-dict, multiprocess, huggingface_hub, botocore, s3transfer, pathos, boto3, sagemaker\n",
            "  Attempting uninstall: protobuf\n",
            "    Found existing installation: protobuf 4.25.5\n",
            "    Uninstalling protobuf-4.25.5:\n",
            "      Successfully uninstalled protobuf-4.25.5\n",
            "  Attempting uninstall: importlib-metadata\n",
            "    Found existing installation: importlib_metadata 8.5.0\n",
            "    Uninstalling importlib_metadata-8.5.0:\n",
            "      Successfully uninstalled importlib_metadata-8.5.0\n",
            "  Attempting uninstall: attrs\n",
            "    Found existing installation: attrs 24.2.0\n",
            "    Uninstalling attrs-24.2.0:\n",
            "      Successfully uninstalled attrs-24.2.0\n",
            "  Attempting uninstall: huggingface_hub\n",
            "    Found existing installation: huggingface-hub 0.26.5\n",
            "    Uninstalling huggingface-hub-0.26.5:\n",
            "      Successfully uninstalled huggingface-hub-0.26.5\n",
            "\u001b[31mERROR: pip's dependency resolver does not currently take into account all the packages that are installed. This behaviour is the source of the following dependency conflicts.\n",
            "accelerate 1.1.1 requires huggingface-hub>=0.21.0, but you have huggingface-hub 0.10.1 which is incompatible.\n",
            "diffusers 0.31.0 requires huggingface-hub>=0.23.2, but you have huggingface-hub 0.10.1 which is incompatible.\n",
            "grpcio-status 1.62.3 requires protobuf>=4.21.6, but you have protobuf 3.20.3 which is incompatible.\n",
            "opentelemetry-api 1.28.2 requires importlib-metadata<=8.5.0,>=6.0, but you have importlib-metadata 4.13.0 which is incompatible.\n",
            "peft 0.13.2 requires huggingface-hub>=0.17.0, but you have huggingface-hub 0.10.1 which is incompatible.\n",
            "sentence-transformers 3.2.1 requires huggingface-hub>=0.20.0, but you have huggingface-hub 0.10.1 which is incompatible.\n",
            "tokenizers 0.20.3 requires huggingface-hub<1.0,>=0.16.4, but you have huggingface-hub 0.10.1 which is incompatible.\n",
            "transformers 4.46.3 requires huggingface-hub<1.0,>=0.23.2, but you have huggingface-hub 0.10.1 which is incompatible.\u001b[0m\u001b[31m\n",
            "\u001b[0mSuccessfully installed attrs-22.2.0 boto3-1.35.81 botocore-1.35.81 dill-0.3.9 huggingface_hub-0.10.1 importlib-metadata-4.13.0 jmespath-1.0.1 multiprocess-0.70.17 pathos-0.3.3 pox-0.3.5 ppft-1.7.6.9 protobuf-3.20.3 protobuf3-to-dict-0.1.5 s3transfer-0.10.4 sagemaker-2.116.0 schema-0.7.7 smdebug_rulesconfig-1.0.1\n"
          ]
        },
        {
          "output_type": "display_data",
          "data": {
            "application/vnd.colab-display-data+json": {
              "pip_warning": {
                "packages": [
                  "google",
                  "importlib_metadata"
                ]
              },
              "id": "347ae1dcf13642bc8d3e357dea07789f"
            }
          },
          "metadata": {}
        }
      ],
      "source": [
        "!pip install \"sagemaker==2.116.0\" \"huggingface_hub==0.10.1\" --upgrade"
      ]
    },
    {
      "cell_type": "code",
      "source": [
        "!pip install python-dotenv"
      ],
      "metadata": {
        "id": "MOv5fkKeAFn3"
      },
      "execution_count": null,
      "outputs": []
    },
    {
      "cell_type": "code",
      "source": [
        "import sagemaker\n",
        "import boto3\n",
        "sess = sagemaker.Session()\n",
        "from dotenv import load_dotenv\n",
        "load_dotenv()\n",
        "\n",
        "boto_session = boto3.setup_default_session(\n",
        "    aws_access_key_id=os.environ.get('aws_access_key_id'),\n",
        "    aws_secret_access_key=os.environ.get('aws_secret_access_key'),\n",
        "    region_name=os.environ.get('region_name')\n",
        ")\n",
        "\n",
        "sess = sagemaker.Session(boto_session=boto_session)\n",
        "\n",
        "print(f\"sagemaker bucket: {sess.default_bucket()}\")\n",
        "print(f\"sagemaker session region: {sess.boto_region_name}\")"
      ],
      "metadata": {
        "id": "hQgvxw_BAG4G"
      },
      "execution_count": null,
      "outputs": []
    },
    {
      "cell_type": "code",
      "source": [
        "!mkdir code"
      ],
      "metadata": {
        "id": "aV9pXxGeAL5v"
      },
      "execution_count": null,
      "outputs": []
    },
    {
      "cell_type": "code",
      "source": [
        "%%writefile code/requirements.txt\n",
        "diffusers==0.6.0\n",
        "transformers==4.23.1"
      ],
      "metadata": {
        "id": "clOs-IPqASIp"
      },
      "execution_count": null,
      "outputs": []
    },
    {
      "cell_type": "code",
      "source": [
        "%%writefile code/inference.py\n",
        "import base64\n",
        "import torch\n",
        "from io import BytesIO\n",
        "from diffusers import StableDiffusionPipeline\n",
        "\n",
        "\n",
        "def model_fn(model_dir):\n",
        "    # Load stable diffusion and move it to the GPU\n",
        "    pipe = StableDiffusionPipeline.from_pretrained(model_dir, torch_dtype=torch.float16)\n",
        "    pipe = pipe.to(\"cuda\")\n",
        "\n",
        "    return pipe\n",
        "\n",
        "\n",
        "def predict_fn(data, pipe):\n",
        "\n",
        "    # get prompt & parameters\n",
        "    prompt = data.pop(\"inputs\", data)\n",
        "    # set valid HP for stable diffusion\n",
        "    num_inference_steps = data.pop(\"num_inference_steps\", 20)\n",
        "    guidance_scale = data.pop(\"guidance_scale\", 7.5)\n",
        "    num_images_per_prompt = data.pop(\"num_images_per_prompt\", 1)\n",
        "\n",
        "    # run generation with parameters\n",
        "    generated_images = pipe(\n",
        "        prompt,\n",
        "        num_inference_steps=num_inference_steps,\n",
        "        guidance_scale=guidance_scale,\n",
        "        num_images_per_prompt=num_images_per_prompt,\n",
        "    )[\"images\"]\n",
        "\n",
        "    # create response\n",
        "    encoded_images = []\n",
        "    for image in generated_images:\n",
        "        buffered = BytesIO()\n",
        "        image.save(buffered, format=\"JPEG\")\n",
        "        encoded_images.append(base64.b64encode(buffered.getvalue()).decode())\n",
        "\n",
        "    # create response\n",
        "    return {\"generated_images\": encoded_images}"
      ],
      "metadata": {
        "id": "xSGNlm5zAUMd"
      },
      "execution_count": null,
      "outputs": []
    },
    {
      "cell_type": "code",
      "source": [
        "from distutils.dir_util import copy_tree\n",
        "from pathlib import Path\n",
        "from huggingface_hub import snapshot_download\n",
        "import random\n",
        "\n",
        "HF_MODEL_ID=\"CompVis/stable-diffusion-v1-4\"\n",
        "HF_TOKEN=os.environ.get('HF_TOKEN') # your hf token: https://huggingface.co/settings/tokens\n",
        "assert len(HF_TOKEN) > 0, \"Please set HF_TOKEN to your huggingface token. You can find it here: https://huggingface.co/settings/tokens\"\n",
        "\n",
        "# download snapshot\n",
        "snapshot_dir = snapshot_download(repo_id=HF_MODEL_ID,revision=\"fp16\",use_auth_token=HF_TOKEN)\n",
        "\n",
        "# create model dir\n",
        "model_tar = Path(f\"model-{random.getrandbits(16)}\")\n",
        "model_tar.mkdir(exist_ok=True)\n",
        "\n",
        "# copy snapshot to model dir\n",
        "copy_tree(snapshot_dir, str(model_tar))"
      ],
      "metadata": {
        "id": "LE9QiIyYAZBk"
      },
      "execution_count": null,
      "outputs": []
    },
    {
      "cell_type": "code",
      "source": [
        "# copy code/ to model dir\n",
        "copy_tree(\"code/\", str(model_tar.joinpath(\"code\")))"
      ],
      "metadata": {
        "id": "lLIMgWWpAd-O"
      },
      "execution_count": null,
      "outputs": []
    },
    {
      "cell_type": "code",
      "source": [
        "import tarfile\n",
        "import os\n",
        "\n",
        "# helper to create the model.tar.gz\n",
        "def compress(tar_dir=None,output_file=\"model.tar.gz\"):\n",
        "    parent_dir=os.getcwd()\n",
        "    os.chdir(tar_dir)\n",
        "    with tarfile.open(os.path.join(parent_dir, output_file), \"w:gz\") as tar:\n",
        "        for item in os.listdir('.'):\n",
        "          print(item)\n",
        "          tar.add(item, arcname=item)\n",
        "    os.chdir(parent_dir)\n",
        "\n",
        "compress(str(model_tar))"
      ],
      "metadata": {
        "id": "84JqDG30Af7P"
      },
      "execution_count": null,
      "outputs": []
    },
    {
      "cell_type": "code",
      "source": [
        "from sagemaker.s3 import S3Uploader\n",
        "\n",
        "# upload model.tar.gz to s3\n",
        "s3_model_uri=S3Uploader.upload(local_path=\"model.tar.gz\", desired_s3_uri=f\"s3://{sess.default_bucket()}/stable-diffusion-v1-4\")\n",
        "\n",
        "print(f\"model uploaded to: {s3_model_uri}\")\n"
      ],
      "metadata": {
        "id": "qs3IgfaEApfx"
      },
      "execution_count": null,
      "outputs": []
    },
    {
      "cell_type": "code",
      "source": [
        "from sagemaker.huggingface.model import HuggingFaceModel\n",
        "\n",
        "\n",
        "# create Hugging Face Model Class\n",
        "huggingface_model = HuggingFaceModel(\n",
        "   model_data='',\n",
        "   role='', # iam role with permissions to create an Endpoint\n",
        "   transformers_version=\"4.17\",  # transformers version used\n",
        "   pytorch_version=\"1.10\",       # pytorch version used\n",
        "   py_version='py38',            # python version used\n",
        ")\n",
        "\n",
        "# deploy the endpoint endpoint\n",
        "predictor = huggingface_model.deploy(\n",
        "    initial_instance_count=1,\n",
        "    instance_type=\"ml.g4dn.xlarge\"\n",
        ")"
      ],
      "metadata": {
        "id": "-oZraM2wAqCq"
      },
      "execution_count": null,
      "outputs": []
    },
    {
      "cell_type": "code",
      "source": [
        "import boto3\n",
        "from PIL import Image\n",
        "from io import BytesIO\n",
        "from IPython.display import display\n",
        "import base64\n",
        "import matplotlib.pyplot as plt\n",
        "import time\n",
        "\n",
        "# helper decoder\n",
        "def decode_base64_image(image_string):\n",
        "  base64_image = base64.b64decode(image_string)\n",
        "  buffer = BytesIO(base64_image)\n",
        "  return Image.open(buffer)\n",
        "\n",
        "# display PIL images as grid\n",
        "def display_images(images=None,columns=3, width=100, height=100):\n",
        "    plt.figure(figsize=(width, height))\n",
        "    for i, image in enumerate(images):\n",
        "        plt.subplot(int(len(images) / columns + 1), columns, i + 1)\n",
        "        plt.axis('off')\n",
        "        plt.imshow(image)\n",
        "\n",
        "start_time = time.time()\n",
        "# run prediction\n",
        "\n",
        "client = boto3.client('sagemaker-runtime')\n",
        "\n",
        "prompt = \"A dog trying to catch a flying pizza art\"\n",
        "\n",
        "num_images_per_prompt = 1\n",
        "\n",
        "payload = {\n",
        "    \"inputs\": prompt,\n",
        "    \"num_images_per_prompt\": num_images_per_prompt\n",
        "}\n",
        "\n",
        "serialized_payload = json.dumps(payload)  # Serialize the payload to JSON format\n",
        "\n",
        "endpoint_name = \"huggingface-pytorch-inference-2023-11-05-04-19-03-160\"\n",
        "\n",
        "response = client.invoke_endpoint(\n",
        "    EndpointName=endpoint_name,\n",
        "    Body=serialized_payload,\n",
        "    ContentType='application/json'  # Specify the format of the payload\n",
        ")\n",
        "\n",
        "response_payload = json.loads(response['Body'].read().decode(\"utf-8\"))\n",
        "\n",
        "end_time = time.time()\n",
        "\n",
        "elapsed_time = end_time - start_time\n",
        "print(f\"Elapsed time: {elapsed_time} seconds\")\n",
        "\n",
        "# decode images\n",
        "decoded_images = [decode_base64_image(image) for image in response_payload[\"generated_images\"]]\n",
        "\n",
        "# visualize generation\n",
        "display_images(decoded_images)"
      ],
      "metadata": {
        "id": "bXnUPhxIAvs5"
      },
      "execution_count": null,
      "outputs": []
    }
  ]
}